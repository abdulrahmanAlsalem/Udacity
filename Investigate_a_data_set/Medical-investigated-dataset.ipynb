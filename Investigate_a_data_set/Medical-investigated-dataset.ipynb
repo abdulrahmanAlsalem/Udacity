{
 "cells": [
  {
   "cell_type": "markdown",
   "metadata": {},
   "source": [
    "## Project: Investigate a No Show Appointments data set.\n",
    "\n",
    "## Table of Contents\n",
    "<ul>\n",
    "<li><a href=\"#intro\">Introduction</a></li>\n",
    "<li><a href=\"#wrangling\">Data Wrangling</a></li>\n",
    "<li><a href=\"#eda\">Exploratory Data Analysis</a></li>\n",
    "<li><a href=\"#conclusions\">Conclusions</a></li>\n",
    "</ul>"
   ]
  },
  {
   "cell_type": "markdown",
   "metadata": {},
   "source": [
    "<a id='intro'></a>\n",
    "# Introduction\n",
    "In this project I choosed Medical Appointment No Shows data set to Analyse. And I posed four questions:\n",
    "\n",
    "#### 1- How many appointment that Scheduled are Unattended?\n",
    "#### 2- What is the mean age of No Show patient?\n",
    "#### 3- Does the Diseases can increase the possibility of absence?\n",
    "#### 4- Does the SMS can increase the possibility of attend?\n"
   ]
  },
  {
   "cell_type": "code",
   "execution_count": 65,
   "metadata": {},
   "outputs": [],
   "source": [
    "import pandas as pd\n",
    "import numpy as np\n",
    "import matplotlib.pyplot as plt\n",
    "%matplotlib inline"
   ]
  },
  {
   "cell_type": "markdown",
   "metadata": {},
   "source": [
    "<a id='wrangling'></a>\n",
    "## Data Wrangling\n",
    "### General Properties"
   ]
  },
  {
   "cell_type": "code",
   "execution_count": 66,
   "metadata": {},
   "outputs": [],
   "source": [
    "# Load data\n",
    "data_frame = pd.read_csv('noshowappointments-kagglev2-may-2016.csv')"
   ]
  },
  {
   "cell_type": "code",
   "execution_count": 67,
   "metadata": {},
   "outputs": [
    {
     "name": "stdout",
     "output_type": "stream",
     "text": [
      "<class 'pandas.core.frame.DataFrame'>\n",
      "RangeIndex: 110527 entries, 0 to 110526\n",
      "Data columns (total 14 columns):\n",
      "PatientId         110527 non-null float64\n",
      "AppointmentID     110527 non-null int64\n",
      "Gender            110527 non-null object\n",
      "ScheduledDay      110527 non-null object\n",
      "AppointmentDay    110527 non-null object\n",
      "Age               110527 non-null int64\n",
      "Neighbourhood     110527 non-null object\n",
      "Scholarship       110527 non-null int64\n",
      "Hipertension      110527 non-null int64\n",
      "Diabetes          110527 non-null int64\n",
      "Alcoholism        110527 non-null int64\n",
      "Handcap           110527 non-null int64\n",
      "SMS_received      110527 non-null int64\n",
      "No-show           110527 non-null object\n",
      "dtypes: float64(1), int64(8), object(5)\n",
      "memory usage: 11.8+ MB\n"
     ]
    },
    {
     "data": {
      "text/plain": [
       "3540"
      ]
     },
     "execution_count": 67,
     "metadata": {},
     "output_type": "execute_result"
    }
   ],
   "source": [
    "# inspect data\n",
    "data_frame.info()\n",
    "# See if there is invalid Ages\n",
    "sum(data_frame['Age'] <= 0)"
   ]
  },
  {
   "cell_type": "code",
   "execution_count": 68,
   "metadata": {},
   "outputs": [
    {
     "data": {
      "text/plain": [
       "0"
      ]
     },
     "execution_count": 68,
     "metadata": {},
     "output_type": "execute_result"
    }
   ],
   "source": [
    "# See if there a duplicate data.\n",
    "sum(data_frame.duplicated())"
   ]
  },
  {
   "cell_type": "markdown",
   "metadata": {},
   "source": [
    "### Data missing?\n",
    "No\n",
    "### Duplicated data?\n",
    "No\n",
    "### Incorrect data type?\n",
    "Yes, ScheduledDay & AppointmentDay.\n",
    "Instead of object, must be datetimes\n",
    "### Incorrect data?\n",
    "There are 3540 patient with invalid age.\n",
    "### Rewrite fields?\n",
    "Yes, instead of using *Yes* and *No* of No-Show, i will use 'Yes = 0'(No show) and 'No = 1'(Show) to make analysis easier."
   ]
  },
  {
   "cell_type": "markdown",
   "metadata": {},
   "source": [
    "### Column Description:\n",
    "    1- PatientId - Identification of a patient.\n",
    "    2- AppointmentID - Identification of each appointment.\n",
    "    3- Gender - Male or Female.\n",
    "    4- AppointmentDay = The day of the actuall appointment, when they have to visit the doctor. \n",
    "    5- ScheduledDay = The day someone called or registered the appointment.\n",
    "    6- Age = How old is the patient. \n",
    "    7- Neighbourhood = Where the appointment takes place. \n",
    "    8- Scholarship = Ture of False . \n",
    "    9- Hipertension = True or False \n",
    "    10- Diabetes = True or False \n",
    "    11- Alcoholism = True or False \n",
    "    12- Handcap = True or False \n",
    "    13- SMS_received = 1 or more messages sent to the patient. \n",
    "    14- No-show = True or False."
   ]
  },
  {
   "cell_type": "markdown",
   "metadata": {},
   "source": [
    "## Data Cleaning: Solve incorrect data type"
   ]
  },
  {
   "cell_type": "code",
   "execution_count": 69,
   "metadata": {},
   "outputs": [],
   "source": [
    "# Change ScheduledDay & AppointmentDay. from object, to datetimes\n",
    "data_frame['AppointmentDay'] = pd.to_datetime(data_frame['AppointmentDay'])\n",
    "data_frame['ScheduledDay'] = pd.to_datetime(data_frame['ScheduledDay'])"
   ]
  },
  {
   "cell_type": "markdown",
   "metadata": {},
   "source": [
    "## Data Cleaning: Solve invalid data "
   ]
  },
  {
   "cell_type": "code",
   "execution_count": 70,
   "metadata": {},
   "outputs": [],
   "source": [
    "# Fill invalid ages with mean age\n",
    "data_frame_fixed_Age = data_frame[data_frame['Age'] <= 0]\n",
    "mean_Age = data_frame['Age'].mean()\n",
    "data_frame['Age'] = data_frame['Age'].replace(data_frame_fixed_Age['Age'], mean_Age)"
   ]
  },
  {
   "cell_type": "markdown",
   "metadata": {},
   "source": [
    "## Data Cleaning: Rewrite fields (Takes 1 hour to procces) "
   ]
  },
  {
   "cell_type": "code",
   "execution_count": 71,
   "metadata": {},
   "outputs": [],
   "source": [
    "# change text values in No-show column.\n",
    "# 'No' will be 1, 'Yes' will be 0. \n",
    "data_frame_fixed_Show_Yes = data_frame[data_frame['No-show'] == 'Yes']\n",
    "data_frame['No-show'] = data_frame['No-show'].replace(data_frame_fixed_Show_Yes['No-show'], 0)\n",
    "data_frame_fixed_Show_No = data_frame[data_frame['No-show'] == 'No']\n",
    "data_frame['No-show'] = data_frame['No-show'].replace(data_frame_fixed_Show_No['No-show'], 1)"
   ]
  },
  {
   "cell_type": "markdown",
   "metadata": {},
   "source": [
    "<a id='eda'></a>\n",
    "## Exploratory Data Analysis\n"
   ]
  },
  {
   "cell_type": "code",
   "execution_count": 72,
   "metadata": {},
   "outputs": [],
   "source": [
    "# Spliting data frame to two data frames. One for Absent patients.\n",
    "# The second is for Present patients.\n",
    "# To make the analysis easier.\n",
    "df_Absent = data_frame[data_frame['No-show'] == 1]\n",
    "df_Present = data_frame[data_frame['No-show'] == 0]"
   ]
  },
  {
   "cell_type": "markdown",
   "metadata": {},
   "source": [
    "### 1- Are the majority appointments that scheduled are attended?"
   ]
  },
  {
   "cell_type": "code",
   "execution_count": 73,
   "metadata": {},
   "outputs": [
    {
     "data": {
      "text/plain": [
       "79.8067440534892"
      ]
     },
     "execution_count": 73,
     "metadata": {},
     "output_type": "execute_result"
    },
    {
     "data": {
      "image/png": "[encoded data removed]",
      "text/plain": [
       "<Figure size 576x576 with 1 Axes>"
      ]
     },
     "metadata": {
      "needs_background": "light"
     },
     "output_type": "display_data"
    }
   ],
   "source": [
    "# Show the appointments attendence.\n",
    "data_frame['No-show'].hist(figsize=(8,8));\n",
    "data_frame['No-show'].mean() * 100"
   ]
  },
  {
   "cell_type": "markdown",
   "metadata": {},
   "source": [
    "### 2- What is the mean age of No Show patient?"
   ]
  },
  {
   "cell_type": "code",
   "execution_count": 74,
   "metadata": {},
   "outputs": [
    {
     "data": {
      "text/plain": [
       "39.00986105668502"
      ]
     },
     "execution_count": 74,
     "metadata": {},
     "output_type": "execute_result"
    }
   ],
   "source": [
    "# Show the age of absent patients \n",
    "df_Absent['Age'].mean()"
   ]
  },
  {
   "cell_type": "markdown",
   "metadata": {},
   "source": [
    "### 3- Does the Diseases can increase the possibility of absence?\n"
   ]
  },
  {
   "cell_type": "code",
   "execution_count": 86,
   "metadata": {},
   "outputs": [
    {
     "data": {
      "image/png": "[encoded data removed]",
      "text/plain": [
       "<Figure size 432x288 with 1 Axes>"
      ]
     },
     "metadata": {},
     "output_type": "display_data"
    }
   ],
   "source": [
    "# To answer Third question we need to split our patients.\n",
    "# who have both (Hipertension & Diabetes).\n",
    "# And See if the diseases can have noticeable impact on the\n",
    "# possibility of absence\n",
    "Present_with_diseases = df_Present['Hipertension'].mean() + df_Present['Diabetes'].mean()\n",
    "Absent_with_diseases = df_Absent['Hipertension'].mean() + df_Absent['Diabetes'].mean()\n",
    "\n",
    "# Prepare the pie parameters.\n",
    "labels = 'Present with diseases', 'Absent with diseases'\n",
    "sizes = [Present_with_diseases+1, Absent_with_diseases+1]\n",
    "colors = ['Green', 'Red']\n",
    "explode = (0, 0)\n",
    "\n",
    "# Plot\n",
    "plt.pie(sizes, explode=explode, labels=labels, colors=colors,\n",
    "autopct='%0.1f%%', shadow=True, startangle=0)\n",
    "\n",
    "plt.axis('equal')\n",
    "plt.show()"
   ]
  },
  {
   "cell_type": "markdown",
   "metadata": {},
   "source": [
    "### 4- Does the SMS have effect on the possibility of attend?"
   ]
  },
  {
   "cell_type": "code",
   "execution_count": 92,
   "metadata": {},
   "outputs": [
    {
     "data": {
      "image/png": "[encoded data removed]",
      "text/plain": [
       "<Figure size 432x288 with 1 Axes>"
      ]
     },
     "metadata": {},
     "output_type": "display_data"
    }
   ],
   "source": [
    "# split present patient to two data frames.\n",
    "# who recive SMS and who aren't and compare them.\n",
    "Present_with_SMS = df_Present[df_Present['SMS_received'] == 1]\n",
    "Present_without_SMS = df_Present[df_Present['SMS_received'] == 0]\n",
    "\n",
    "labels = 'Present without SMS', 'Present with SMS'\n",
    "sizes = [len(Present_without_SMS), len(Present_with_SMS)]\n",
    "colors = ['red', 'green']\n",
    "explode = (0, 0)\n",
    "\n",
    "# Plot\n",
    "plt.pie(sizes, explode=explode, labels=labels, colors=colors,\n",
    "autopct='%0.1f%%', shadow=True, startangle=0)\n",
    "\n",
    "plt.axis('equal')\n",
    "plt.show()"
   ]
  },
  {
   "cell_type": "markdown",
   "metadata": {},
   "source": [
    "### 5- What is the age of attended patient?"
   ]
  },
  {
   "cell_type": "code",
   "execution_count": 91,
   "metadata": {},
   "outputs": [
    {
     "data": {
      "image/png": "[encoded data removed]",
      "text/plain": [
       "<Figure size 576x576 with 1 Axes>"
      ]
     },
     "metadata": {
      "needs_background": "light"
     },
     "output_type": "display_data"
    }
   ],
   "source": [
    "# visualise attended patients ages\n",
    "df_Present['Age'].plot(kind='box', figsize=(8,8));\n",
    "plt.title('Age of attended patient');"
   ]
  },
  {
   "cell_type": "markdown",
   "metadata": {},
   "source": [
    "we can conclude that more than %50 of our present patients are under 40 years"
   ]
  },
  {
   "cell_type": "markdown",
   "metadata": {
    "collapsed": true
   },
   "source": [
    "<a id='conclusions'></a>\n",
    "# Conclusions"
   ]
  },
  {
   "cell_type": "markdown",
   "metadata": {},
   "source": [
    "#### Limitations:"
   ]
  },
  {
   "cell_type": "markdown",
   "metadata": {},
   "source": [
    "1. Big data set. so that it take a lot of time to procces an entire column if desired."
   ]
  },
  {
   "cell_type": "markdown",
   "metadata": {},
   "source": [
    "2. Difficult to visualise since there are no variation in values except in the age. other wise it is 0's or 1's."
   ]
  },
  {
   "cell_type": "markdown",
   "metadata": {},
   "source": [
    "#### Results:"
   ]
  },
  {
   "cell_type": "markdown",
   "metadata": {},
   "source": [
    "1. %79.8 of Scheduled Appointments are attended."
   ]
  },
  {
   "cell_type": "markdown",
   "metadata": {},
   "source": [
    "2. Age of unattended patients probably are older than attended patient."
   ]
  },
  {
   "cell_type": "markdown",
   "metadata": {},
   "source": [
    "3. Diseases can have imapct on attendence."
   ]
  },
  {
   "cell_type": "markdown",
   "metadata": {},
   "source": [
    "4. Sending SMS to the patient does not have impact on the possibility to attend. "
   ]
  },
  {
   "cell_type": "markdown",
   "metadata": {},
   "source": [
    "5. more than %50 of our present patients are under 40 years"
   ]
  },
  {
   "cell_type": "code",
   "execution_count": null,
   "metadata": {},
   "outputs": [],
   "source": []
  }
 ],
 "metadata": {
  "kernelspec": {
   "display_name": "Python 3",
   "language": "python",
   "name": "python3"
  },
  "language_info": {
   "codemirror_mode": {
    "name": "ipython",
    "version": 3
   },
   "file_extension": ".py",
   "mimetype": "text/x-python",
   "name": "python",
   "nbconvert_exporter": "python",
   "pygments_lexer": "ipython3",
   "version": "3.7.3"
  }
 },
 "nbformat": 4,
 "nbformat_minor": 2
}
